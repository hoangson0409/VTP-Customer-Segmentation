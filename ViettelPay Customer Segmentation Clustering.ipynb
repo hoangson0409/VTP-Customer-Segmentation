{
 "cells": [
  {
   "cell_type": "code",
   "execution_count": 1,
   "metadata": {},
   "outputs": [
    {
     "data": {
      "text/html": [
       "        <script type=\"text/javascript\">\n",
       "        window.PlotlyConfig = {MathJaxConfig: 'local'};\n",
       "        if (window.MathJax) {MathJax.Hub.Config({SVG: {font: \"STIX-Web\"}});}\n",
       "        if (typeof require !== 'undefined') {\n",
       "        require.undef(\"plotly\");\n",
       "        requirejs.config({\n",
       "            paths: {\n",
       "                'plotly': ['https://cdn.plot.ly/plotly-latest.min']\n",
       "            }\n",
       "        });\n",
       "        require(['plotly'], function(Plotly) {\n",
       "            window._Plotly = Plotly;\n",
       "        });\n",
       "        }\n",
       "        </script>\n",
       "        "
      ]
     },
     "metadata": {},
     "output_type": "display_data"
    }
   ],
   "source": [
    "import pandas as pd\n",
    "import numpy as np\n",
    "import matplotlib as mpl\n",
    "import matplotlib.pyplot as plt\n",
    "from scipy.spatial.distance import hamming,euclidean\n",
    "from kmodes.kmodes import KModes\n",
    "from kmodes.kprototypes import KPrototypes\n",
    "import plotly.graph_objs as go\n",
    "from plotly.offline import init_notebook_mode,iplot\n",
    "from sklearn.preprocessing import StandardScaler\n",
    "from sklearn.cluster import KMeans\n",
    "from sklearn.metrics import silhouette_samples, silhouette_score\n",
    "from sklearn import preprocessing, model_selection, metrics, feature_selection\n",
    "import seaborn as sns\n",
    "import datetime, nltk, warnings\n",
    "init_notebook_mode(connected=True)\n",
    "warnings.filterwarnings(\"ignore\")\n",
    "plt.rcParams[\"patch.force_edgecolor\"] = True\n",
    "plt.style.use('fivethirtyeight')\n",
    "mpl.rc('patch', edgecolor = 'dimgray', linewidth=1)\n",
    "%matplotlib inline"
   ]
  },
  {
   "cell_type": "code",
   "execution_count": 2,
   "metadata": {},
   "outputs": [],
   "source": [
    "#import the cleaned and engineered dataset \n",
    "df = pd.read_csv('ViettelCustSegment_final_2.csv')"
   ]
  },
  {
   "cell_type": "code",
   "execution_count": 3,
   "metadata": {},
   "outputs": [],
   "source": [
    "#dropping some unnnecessary columns\n",
    "df = df[['msisdn', 'sum_gdtc', 'count_gdtc', 'max_gdtc', 'recency',\n",
    "       'hypothetical_trans_amount', 'usage_length_in_days',\n",
    "       'error_per_day', 'error_req_percentage', 'last_code=error',\n",
    "       'last_error_sodu', 'last_error_mapin', 'last_error_cachdung',\n",
    "       'tt_diennuoc', 'tt_taichinh', 'tt_muasam', 'tt_vienthong', 'gender',\n",
    "       'pin_lock', 'pin_ok','card_status']]\n",
    "#Columns using categorical values: 8 : 19"
   ]
  },
  {
   "cell_type": "code",
   "execution_count": 4,
   "metadata": {},
   "outputs": [
    {
     "name": "stdout",
     "output_type": "stream",
     "text": [
      "(758157, 20)\n"
     ]
    }
   ],
   "source": [
    "#Scaling the dataset for clustering and check each features contribution to total variance\n",
    "X = df.iloc[:,1:].values\n",
    "print(X.shape)\n",
    "\n",
    "scaler = StandardScaler()\n",
    "scaler.fit(X)\n",
    "scaled_X = scaler.transform(X)"
   ]
  },
  {
   "cell_type": "code",
   "execution_count": 5,
   "metadata": {},
   "outputs": [
    {
     "data": {
      "image/png": "[encoded data removed]",
      "text/plain": [
       "<Figure size 1008x360 with 1 Axes>"
      ]
     },
     "metadata": {
      "needs_background": "light"
     },
     "output_type": "display_data"
    }
   ],
   "source": [
    "from sklearn.decomposition import PCA\n",
    "pca = PCA()\n",
    "pca.fit(scaled_X)\n",
    "pca_samples = pca.transform(scaled_X)\n",
    "\n",
    "\n",
    "fig, ax = plt.subplots(figsize=(14, 5))\n",
    "sns.set(font_scale=1)\n",
    "plt.step(range(scaled_X.shape[1]), pca.explained_variance_ratio_.cumsum(), where='mid',\n",
    "         label='cumulative explained variance')\n",
    "sns.barplot(np.arange(1,scaled_X.shape[1]+1), pca.explained_variance_ratio_, alpha=0.5, color = 'g',\n",
    "            label='individual explained variance')\n",
    "plt.xlim(0, 15)\n",
    "\n",
    "ax.set_xticklabels([s if int(s.get_text())%2 == 0 else '' for s in ax.get_xticklabels()])\n",
    "\n",
    "plt.ylabel('Explained variance', fontsize = 14)\n",
    "plt.xlabel('Principal components', fontsize = 14)\n",
    "plt.legend(loc='best', fontsize = 13);"
   ]
  },
  {
   "cell_type": "markdown",
   "metadata": {},
   "source": [
    "For this clustering task, the algorithm of choice will be K-Prototype due to its robustness to both numerical and categorical features. Instead of using Euclidean distance like K-Means or using Hamming distance like K-Modes, it combines the cost function as defined in my_silhoutte() function\n",
    "\n",
    "The criterion for ideal number of cluster is \n",
    "- no cluster has too few datapoints\n",
    "- high average silhoutte score. (instead of WCSS) "
   ]
  },
  {
   "cell_type": "code",
   "execution_count": 6,
   "metadata": {},
   "outputs": [],
   "source": [
    "def my_silhoutte(data,cluster,numcat_split_idx,num_cluster):\n",
    "    '''Self written function to calculate silhoutte score given a dataset and its cluster\n",
    "    ---------------------------------------------------------------\n",
    "    - data: array\n",
    "    - cluster: array\n",
    "    - numcat_split_idx: the dataset shall be organized in a manner that all numerical features will be adjacent to one another\n",
    "    and all categorical features will be adjacent to one another. The index splitting between 2 types is then numcat_split_idx\n",
    "    -num_cluster: number of clusters in the dataset'''\n",
    "    gamma = 0.5 * data[:,:numcat_split_idx].std() #gamma = 0.5 * standard deviation of numeric features. For more information refer to Huang(97)\n",
    "    silhoutte = []\n",
    "    for i in range(len(data)):\n",
    "        dist_a = euclidean(data[i,:numcat_split_idx],kproto.cluster_centroids_[0][clusters[i]]) + gamma * hamming(data[i][numcat_split_idx:data.shape[1]],kproto.cluster_centroids_[1][clusters[i]])\n",
    "        dist_b_list = []\n",
    "        for v in range(num_cluster):\n",
    "            if v != cluster[i]:\n",
    "                dist_b_temp = euclidean(data[i,:numcat_split_idx],kproto.cluster_centroids_[0][v]) + gamma * hamming(data[0][numcat_split_idx:data.shape[1]],kproto.cluster_centroids_[1][v])\n",
    "                dist_b_list.append(dist_b_temp)\n",
    "        dist_b = min(dist_b_list)\n",
    "        silhoutte.append((dist_b - dist_a) / max(dist_a,dist_b))\n",
    "    \n",
    "    \n",
    "    \n",
    "    return silhoutte"
   ]
  },
  {
   "cell_type": "code",
   "execution_count": 17,
   "metadata": {},
   "outputs": [
    {
     "name": "stdout",
     "output_type": "stream",
     "text": [
      "Init: initializing centroids\n",
      "Init: initializing clusters\n",
      "Starting iterations...\n",
      "Run: 1, iteration: 1/500, moves: 337369, ncost: 3282396.6281130225\n",
      "Run: 1, iteration: 2/500, moves: 82080, ncost: 3104117.1342722294\n",
      "Run: 1, iteration: 3/500, moves: 52672, ncost: 3095840.4787491853\n",
      "Run: 1, iteration: 4/500, moves: 24687, ncost: 3089918.863494921\n",
      "Run: 1, iteration: 5/500, moves: 13754, ncost: 3072666.1296452787\n",
      "Run: 1, iteration: 6/500, moves: 13958, ncost: 3061322.3752771327\n",
      "Run: 1, iteration: 7/500, moves: 6369, ncost: 3058069.312113221\n",
      "Run: 1, iteration: 8/500, moves: 5797, ncost: 3054104.5150141423\n",
      "Run: 1, iteration: 9/500, moves: 8083, ncost: 3036249.10276828\n",
      "Run: 1, iteration: 10/500, moves: 8967, ncost: 2957141.7267152807\n",
      "Run: 1, iteration: 11/500, moves: 5244, ncost: 2867552.452682794\n",
      "Run: 1, iteration: 12/500, moves: 2689, ncost: 2797402.7251371336\n",
      "Run: 1, iteration: 13/500, moves: 1328, ncost: 2712651.372673473\n",
      "Run: 1, iteration: 14/500, moves: 682, ncost: 2647399.166779778\n",
      "Run: 1, iteration: 15/500, moves: 510, ncost: 2629219.343106689\n",
      "Run: 1, iteration: 16/500, moves: 212, ncost: 2628285.2343822066\n",
      "Run: 1, iteration: 17/500, moves: 87, ncost: 2628255.9640943566\n",
      "Run: 1, iteration: 18/500, moves: 56, ncost: 2628255.8617982115\n",
      "Run: 1, iteration: 19/500, moves: 18, ncost: 2628255.8501457036\n",
      "Run: 1, iteration: 20/500, moves: 4, ncost: 2628255.8495151536\n",
      "Run: 1, iteration: 21/500, moves: 0, ncost: 2628255.8495151536\n",
      "Init: initializing centroids\n",
      "Init: initializing clusters\n",
      "Init: initializing centroids\n",
      "Init: initializing clusters\n",
      "Init: initializing centroids\n",
      "Init: initializing clusters\n",
      "Starting iterations...\n",
      "Run: 2, iteration: 1/500, moves: 145260, ncost: 3001436.1113556353\n",
      "Run: 2, iteration: 2/500, moves: 37512, ncost: 2601940.4523773785\n",
      "Run: 2, iteration: 3/500, moves: 33516, ncost: 2530301.6600457076\n",
      "Run: 2, iteration: 4/500, moves: 22218, ncost: 2520413.780329901\n",
      "Run: 2, iteration: 5/500, moves: 9560, ncost: 2517718.494734564\n",
      "Run: 2, iteration: 6/500, moves: 7989, ncost: 2516323.0623155585\n",
      "Run: 2, iteration: 7/500, moves: 6129, ncost: 2515497.59914911\n",
      "Run: 2, iteration: 8/500, moves: 4287, ncost: 2514876.7564039333\n",
      "Run: 2, iteration: 9/500, moves: 3693, ncost: 2514478.395844338\n",
      "Run: 2, iteration: 10/500, moves: 2818, ncost: 2514244.3278268557\n",
      "Run: 2, iteration: 11/500, moves: 1899, ncost: 2514117.246135439\n",
      "Run: 2, iteration: 12/500, moves: 1231, ncost: 2514058.1994623095\n",
      "Run: 2, iteration: 13/500, moves: 942, ncost: 2514025.33852879\n",
      "Run: 2, iteration: 14/500, moves: 715, ncost: 2513996.420949788\n",
      "Run: 2, iteration: 15/500, moves: 450, ncost: 2513980.9435010785\n",
      "Run: 2, iteration: 16/500, moves: 319, ncost: 2513968.3271882716\n",
      "Run: 2, iteration: 17/500, moves: 203, ncost: 2513932.322386321\n",
      "Run: 2, iteration: 18/500, moves: 163, ncost: 2513882.600912773\n",
      "Run: 2, iteration: 19/500, moves: 116, ncost: 2513723.3323656507\n",
      "Run: 2, iteration: 20/500, moves: 58, ncost: 2513686.0942295976\n",
      "Run: 2, iteration: 21/500, moves: 35, ncost: 2513670.7812778368\n",
      "Run: 2, iteration: 22/500, moves: 17, ncost: 2513648.182421236\n",
      "Run: 2, iteration: 23/500, moves: 6, ncost: 2513646.403558252\n",
      "Run: 2, iteration: 24/500, moves: 0, ncost: 2513646.403558252\n",
      "Init: initializing centroids\n",
      "Init: initializing clusters\n",
      "Starting iterations...\n",
      "Run: 3, iteration: 1/500, moves: 376305, ncost: 3492498.645289468\n",
      "Run: 3, iteration: 2/500, moves: 83816, ncost: 3372664.000212688\n",
      "Run: 3, iteration: 3/500, moves: 49345, ncost: 3292526.116542891\n",
      "Run: 3, iteration: 4/500, moves: 16481, ncost: 3214127.182590584\n",
      "Run: 3, iteration: 5/500, moves: 2944, ncost: 3165195.7359208586\n",
      "Run: 3, iteration: 6/500, moves: 3519, ncost: 3156145.397709753\n",
      "Run: 3, iteration: 7/500, moves: 2893, ncost: 3155759.443738073\n",
      "Run: 3, iteration: 8/500, moves: 180, ncost: 3155730.415709437\n",
      "Run: 3, iteration: 9/500, moves: 22, ncost: 3155730.4078483577\n",
      "Run: 3, iteration: 10/500, moves: 5, ncost: 3155730.4070625356\n",
      "Run: 3, iteration: 11/500, moves: 0, ncost: 3155730.4070625356\n",
      "Init: initializing centroids\n",
      "Init: initializing clusters\n",
      "Starting iterations...\n",
      "Run: 4, iteration: 1/500, moves: 392775, ncost: 2727646.842872162\n",
      "Run: 4, iteration: 2/500, moves: 40138, ncost: 2649465.2801923254\n",
      "Run: 4, iteration: 3/500, moves: 10834, ncost: 2630278.257559402\n",
      "Run: 4, iteration: 4/500, moves: 5051, ncost: 2628859.4957805965\n",
      "Run: 4, iteration: 5/500, moves: 3094, ncost: 2628636.8879752746\n",
      "Run: 4, iteration: 6/500, moves: 2212, ncost: 2628530.7438364145\n",
      "Run: 4, iteration: 7/500, moves: 1697, ncost: 2628466.3999153078\n",
      "Run: 4, iteration: 8/500, moves: 1181, ncost: 2628434.9329291424\n",
      "Run: 4, iteration: 9/500, moves: 1018, ncost: 2628412.648951074\n",
      "Run: 4, iteration: 10/500, moves: 933, ncost: 2628395.4890029924\n",
      "Run: 4, iteration: 11/500, moves: 1023, ncost: 2628373.7179960967\n",
      "Run: 4, iteration: 12/500, moves: 864, ncost: 2628354.226263714\n",
      "Run: 4, iteration: 13/500, moves: 677, ncost: 2628340.4361562063\n",
      "Run: 4, iteration: 14/500, moves: 663, ncost: 2628324.1986729186\n",
      "Run: 4, iteration: 15/500, moves: 676, ncost: 2628309.820623938\n",
      "Run: 4, iteration: 16/500, moves: 567, ncost: 2628301.186139371\n",
      "Run: 4, iteration: 17/500, moves: 343, ncost: 2628297.31119015\n",
      "Run: 4, iteration: 18/500, moves: 305, ncost: 2628294.034260303\n",
      "Run: 4, iteration: 19/500, moves: 414, ncost: 2628290.1772101554\n",
      "Run: 4, iteration: 20/500, moves: 247, ncost: 2628287.8908966407\n",
      "Run: 4, iteration: 21/500, moves: 175, ncost: 2628286.9795331624\n",
      "Run: 4, iteration: 22/500, moves: 150, ncost: 2628286.470776762\n",
      "Run: 4, iteration: 23/500, moves: 157, ncost: 2628285.370546354\n",
      "Run: 4, iteration: 24/500, moves: 86, ncost: 2628285.180865034\n",
      "Run: 4, iteration: 25/500, moves: 26, ncost: 2628285.1614312576\n",
      "Run: 4, iteration: 26/500, moves: 15, ncost: 2628285.1527266917\n",
      "Run: 4, iteration: 27/500, moves: 6, ncost: 2628285.151678133\n",
      "Run: 4, iteration: 28/500, moves: 0, ncost: 2628285.151678133\n",
      "Init: initializing centroids\n",
      "Init: initializing clusters\n",
      "Starting iterations...\n",
      "Run: 5, iteration: 1/500, moves: 301253, ncost: 2758701.9352785437\n",
      "Run: 5, iteration: 2/500, moves: 88041, ncost: 2684705.750734071\n",
      "Run: 5, iteration: 3/500, moves: 32529, ncost: 2675453.8238078314\n",
      "Run: 5, iteration: 4/500, moves: 14714, ncost: 2672560.686381269\n",
      "Run: 5, iteration: 5/500, moves: 9977, ncost: 2671522.315603432\n",
      "Run: 5, iteration: 6/500, moves: 6069, ncost: 2671110.231789029\n",
      "Run: 5, iteration: 7/500, moves: 3360, ncost: 2670973.455171023\n",
      "Run: 5, iteration: 8/500, moves: 1981, ncost: 2670920.2186020054\n",
      "Run: 5, iteration: 9/500, moves: 1437, ncost: 2670889.6845240965\n",
      "Run: 5, iteration: 10/500, moves: 1001, ncost: 2670874.103985189\n",
      "Run: 5, iteration: 11/500, moves: 690, ncost: 2670867.408347911\n",
      "Run: 5, iteration: 12/500, moves: 496, ncost: 2670863.909477912\n",
      "Run: 5, iteration: 13/500, moves: 393, ncost: 2670862.119227194\n",
      "Run: 5, iteration: 14/500, moves: 274, ncost: 2670861.226225657\n",
      "Run: 5, iteration: 15/500, moves: 206, ncost: 2670860.618562024\n",
      "Run: 5, iteration: 16/500, moves: 159, ncost: 2670860.250190572\n",
      "Run: 5, iteration: 17/500, moves: 109, ncost: 2670860.1201576614\n",
      "Run: 5, iteration: 18/500, moves: 62, ncost: 2670860.0518715335\n",
      "Run: 5, iteration: 19/500, moves: 50, ncost: 2670859.9420834933\n",
      "Run: 5, iteration: 20/500, moves: 48, ncost: 2670859.90025196\n",
      "Run: 5, iteration: 21/500, moves: 38, ncost: 2670859.875752848\n",
      "Run: 5, iteration: 22/500, moves: 29, ncost: 2670859.864202097\n",
      "Run: 5, iteration: 23/500, moves: 29, ncost: 2670859.856757965\n",
      "Run: 5, iteration: 24/500, moves: 16, ncost: 2670859.854374394\n",
      "Run: 5, iteration: 25/500, moves: 1, ncost: 2670859.854328781\n",
      "Run: 5, iteration: 26/500, moves: 1, ncost: 2670859.854240666\n",
      "Run: 5, iteration: 27/500, moves: 0, ncost: 2670859.854240666\n",
      "Best run was number 2\n",
      "8\n"
     ]
    }
   ],
   "source": [
    "clusters_list = []\n",
    "silhoutte_list = []\n",
    "numcat_split_idx = 8\n",
    "gamma = 0.5 * scaled_X[:,:numcat_split_idx].std() \n",
    "\n",
    "for i in range(8,9): \n",
    "    kproto = KPrototypes(n_clusters=i, max_iter= 500, init='Huang', verbose=2,n_init = 5)\n",
    "    clusters = kproto.fit_predict(scaled_X, categorical=[8,9,10,11,12,13,14,15,16,17,18,19])\n",
    "    print(i)\n",
    "    clusters_list.append(clusters)\n",
    "    silhoutte = my_silhoutte(scaled_X,clusters,numcat_split_idx=numcat_split_idx,num_cluster=i)\n",
    "    silhoutte_list.append(silhoutte)\n",
    "\n",
    "pd.DataFrame(clusters_list).to_csv(r\"C:\\Users\\os_sonnh1\\Downloads\\pythonscript\\REALWORK\\KPro_params\\real_cl_list.csv\")\n",
    "pd.DataFrame(silhoutte_list).to_csv(r\"C:\\Users\\os_sonnh1\\Downloads\\pythonscript\\REALWORK\\KPro_params\\real_silhoutte_list.csv\")\n",
    "    \n",
    "#chua tính silhoutte cho n_cluster = 5    "
   ]
  }
 ],
 "metadata": {
  "kernelspec": {
   "display_name": "Python 3",
   "language": "python",
   "name": "python3"
  },
  "language_info": {
   "codemirror_mode": {
    "name": "ipython",
    "version": 3
   },
   "file_extension": ".py",
   "mimetype": "text/x-python",
   "name": "python",
   "nbconvert_exporter": "python",
   "pygments_lexer": "ipython3",
   "version": "3.7.3"
  }
 },
 "nbformat": 4,
 "nbformat_minor": 2
}
